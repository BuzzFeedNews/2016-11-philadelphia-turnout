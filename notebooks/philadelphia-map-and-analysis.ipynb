{
 "cells": [
  {
   "cell_type": "markdown",
   "metadata": {},
   "source": [
    "# Graph and Map of Philadelphia Ward Change In Turnout"
   ]
  },
  {
   "cell_type": "code",
   "execution_count": 1,
   "metadata": {
    "collapsed": false
   },
   "outputs": [
    {
     "data": {
      "text/html": [
       "\n",
       "           <script>\n",
       "               \n",
       "                function vct_load_lib(url, callback){\n",
       "                      if(typeof d3 !== 'undefined' &&\n",
       "                         url === 'http://d3js.org/d3.v3.min.js'){\n",
       "                        callback()\n",
       "                      }\n",
       "                      var s = document.createElement('script');\n",
       "                      s.src = url;\n",
       "                      s.async = true;\n",
       "                      s.onreadystatechange = s.onload = callback;\n",
       "                      s.onerror = function(){\n",
       "                        console.warn(\"failed to load library \" + url);\n",
       "                        };\n",
       "                      document.getElementsByTagName(\"head\")[0].appendChild(s);\n",
       "                };\n",
       "                var vincent_event = new CustomEvent(\n",
       "                  \"vincent_libs_loaded\",\n",
       "                  {bubbles: true, cancelable: true}\n",
       "                );\n",
       "                \n",
       "               function load_all_libs(){\n",
       "                  console.log('Loading Vincent libs...')\n",
       "                  vct_load_lib('http://d3js.org/d3.v3.min.js', function(){\n",
       "                  vct_load_lib('http://d3js.org/d3.geo.projection.v0.min.js', function(){\n",
       "                  vct_load_lib('http://wrobstory.github.io/d3-cloud/d3.layout.cloud.js', function(){\n",
       "                  vct_load_lib('http://wrobstory.github.io/vega/vega.v1.3.3.js', function(){\n",
       "                  window.dispatchEvent(vincent_event);\n",
       "                  });\n",
       "                  });\n",
       "                  });\n",
       "                  });\n",
       "               };\n",
       "               if(typeof define === \"function\" && define.amd){\n",
       "                    if (window['d3'] === undefined ||\n",
       "                        window['topojson'] === undefined){\n",
       "                        require.config(\n",
       "                            {paths: {\n",
       "                              d3: 'http://d3js.org/d3.v3.min',\n",
       "                              topojson: 'http://d3js.org/topojson.v1.min'\n",
       "                              }\n",
       "                            }\n",
       "                          );\n",
       "                        require([\"d3\"], function(d3){\n",
       "                            console.log('Loading Vincent from require.js...')\n",
       "                            window.d3 = d3;\n",
       "                            require([\"topojson\"], function(topojson){\n",
       "                                window.topojson = topojson;\n",
       "                                load_all_libs();\n",
       "                            });\n",
       "                        });\n",
       "                    } else {\n",
       "                        load_all_libs();\n",
       "                    };\n",
       "               }else{\n",
       "                    console.log('Require.js not found, loading manually...')\n",
       "                    load_all_libs();\n",
       "               };\n",
       "\n",
       "           </script>"
      ],
      "text/plain": [
       "<IPython.core.display.HTML object>"
      ]
     },
     "metadata": {},
     "output_type": "display_data"
    }
   ],
   "source": [
    "import pandas as pd\n",
    "import matplotlib\n",
    "%matplotlib inline\n",
    "import seaborn\n",
    "import vincent\n",
    "from vincent.marks import ValueRef\n",
    "\n",
    "vincent.core.initialize_notebook()"
   ]
  },
  {
   "cell_type": "markdown",
   "metadata": {},
   "source": [
    "## Load Election Data"
   ]
  },
  {
   "cell_type": "markdown",
   "metadata": {},
   "source": [
    "**Load the 2012 Election Data**"
   ]
  },
  {
   "cell_type": "code",
   "execution_count": 2,
   "metadata": {
    "collapsed": false
   },
   "outputs": [],
   "source": [
    "results_2012 = pd.read_csv(\"../data/elections/2012_general.csv\")"
   ]
  },
  {
   "cell_type": "code",
   "execution_count": 3,
   "metadata": {
    "collapsed": true
   },
   "outputs": [],
   "source": [
    "pres_2012 = results_2012[\n",
    "                results_2012[\"OFFICE\"] == \"PRESIDENT AND VICE PRESIDENT OF THE UNITED STATES\"\n",
    "            ].copy()\n",
    "pres_2012[\"VOTES\"] = pres_2012[\"VOTES\"].fillna(0)"
   ]
  },
  {
   "cell_type": "code",
   "execution_count": 4,
   "metadata": {
    "collapsed": false
   },
   "outputs": [],
   "source": [
    "pres_2012_votes = pres_2012.groupby([\"WARD\", \"PARTY\"])[\"VOTES\"].sum().unstack()"
   ]
  },
  {
   "cell_type": "code",
   "execution_count": 5,
   "metadata": {
    "collapsed": true
   },
   "outputs": [],
   "source": [
    "pres_2012_votes[\"total_votes\"] = pres_2012_votes.sum(axis=1)"
   ]
  },
  {
   "cell_type": "markdown",
   "metadata": {},
   "source": [
    "**Load the 2016 Election Data**"
   ]
  },
  {
   "cell_type": "code",
   "execution_count": 6,
   "metadata": {
    "collapsed": true
   },
   "outputs": [],
   "source": [
    "results_2016 = pd.read_csv(\"../data/elections/PRECINCT_20161111_H13_M51_S16.txt\", sep=\"@\")"
   ]
  },
  {
   "cell_type": "code",
   "execution_count": 7,
   "metadata": {
    "collapsed": true
   },
   "outputs": [],
   "source": [
    "def get_ward_division(precinct):\n",
    "    try:\n",
    "        pieces = precinct.split(\"-\")\n",
    "        return int(pieces[0]), int(pieces[1])\n",
    "    except ValueError:\n",
    "        return None, None"
   ]
  },
  {
   "cell_type": "code",
   "execution_count": 8,
   "metadata": {
    "collapsed": true
   },
   "outputs": [],
   "source": [
    "results_2016[\"WARD\"], results_2016[\"DIVISION\"] = zip(*results_2016[\"Precinct_Name\"].apply(get_ward_division))"
   ]
  },
  {
   "cell_type": "code",
   "execution_count": 9,
   "metadata": {
    "collapsed": true
   },
   "outputs": [],
   "source": [
    "pres_2016 = results_2016[\n",
    "                results_2016[\"Office_Prop Name\"] == \"PRESIDENT AND VICE PRESIDENT OF THE UNITED STATES\"\n",
    "            ].copy()\n",
    "pres_2016[\"Vote_Count\"] = pres_2016[\"Vote_Count\"].fillna(0)"
   ]
  },
  {
   "cell_type": "code",
   "execution_count": 10,
   "metadata": {
    "collapsed": true
   },
   "outputs": [],
   "source": [
    "pres_2016_votes = pres_2016.groupby([\"WARD\", \"Party_Name\"])[\"Vote_Count\"].sum().unstack()"
   ]
  },
  {
   "cell_type": "code",
   "execution_count": 11,
   "metadata": {
    "collapsed": true
   },
   "outputs": [],
   "source": [
    "pres_2016_votes[\"total_votes\"] = pres_2016_votes.sum(axis=1)"
   ]
  },
  {
   "cell_type": "markdown",
   "metadata": {},
   "source": [
    "## Merge Election Data"
   ]
  },
  {
   "cell_type": "code",
   "execution_count": 12,
   "metadata": {
    "collapsed": true
   },
   "outputs": [],
   "source": [
    "votes_2012_vs_2016 = pres_2012_votes.join(pres_2016_votes, rsuffix=\"_2016\", lsuffix=\"_2012\")"
   ]
  },
  {
   "cell_type": "code",
   "execution_count": 13,
   "metadata": {
    "collapsed": true
   },
   "outputs": [],
   "source": [
    "votes_2012_vs_2016[\"total_turnout_pct_change\"] = (votes_2012_vs_2016[\"total_votes_2016\"] - \\\n",
    "                                                  votes_2012_vs_2016[\"total_votes_2012\"]) \\\n",
    "                                                / votes_2012_vs_2016[\"total_votes_2012\"] * 100"
   ]
  },
  {
   "cell_type": "code",
   "execution_count": 14,
   "metadata": {
    "collapsed": true
   },
   "outputs": [],
   "source": [
    "votes_2012_vs_2016 = votes_2012_vs_2016.reset_index()"
   ]
  },
  {
   "cell_type": "code",
   "execution_count": 15,
   "metadata": {
    "collapsed": true
   },
   "outputs": [],
   "source": [
    "votes_2012_vs_2016[\"ward_str\"] = votes_2012_vs_2016[\"WARD\"].astype(str)"
   ]
  },
  {
   "cell_type": "code",
   "execution_count": 16,
   "metadata": {
    "collapsed": false
   },
   "outputs": [
    {
     "data": {
      "text/html": [
       "<div>\n",
       "<table border=\"1\" class=\"dataframe\">\n",
       "  <thead>\n",
       "    <tr style=\"text-align: right;\">\n",
       "      <th></th>\n",
       "      <th>0</th>\n",
       "      <th>1</th>\n",
       "      <th>2</th>\n",
       "    </tr>\n",
       "  </thead>\n",
       "  <tbody>\n",
       "    <tr>\n",
       "      <th>WARD</th>\n",
       "      <td>1</td>\n",
       "      <td>2</td>\n",
       "      <td>3</td>\n",
       "    </tr>\n",
       "    <tr>\n",
       "      <th>DEMOCRATIC_2012</th>\n",
       "      <td>5882</td>\n",
       "      <td>10324</td>\n",
       "      <td>10003</td>\n",
       "    </tr>\n",
       "    <tr>\n",
       "      <th>GREEN_2012</th>\n",
       "      <td>53</td>\n",
       "      <td>75</td>\n",
       "      <td>5</td>\n",
       "    </tr>\n",
       "    <tr>\n",
       "      <th>LIBERTARIAN_2012</th>\n",
       "      <td>61</td>\n",
       "      <td>97</td>\n",
       "      <td>6</td>\n",
       "    </tr>\n",
       "    <tr>\n",
       "      <th>REPUBLICAN_2012</th>\n",
       "      <td>1418</td>\n",
       "      <td>1914</td>\n",
       "      <td>57</td>\n",
       "    </tr>\n",
       "    <tr>\n",
       "      <th>total_votes_2012</th>\n",
       "      <td>7414</td>\n",
       "      <td>12410</td>\n",
       "      <td>10071</td>\n",
       "    </tr>\n",
       "    <tr>\n",
       "      <th>CONSTITUTION PARTY</th>\n",
       "      <td>18</td>\n",
       "      <td>11</td>\n",
       "      <td>7</td>\n",
       "    </tr>\n",
       "    <tr>\n",
       "      <th>DEMOCRATIC_2016</th>\n",
       "      <td>6529</td>\n",
       "      <td>11442</td>\n",
       "      <td>9001</td>\n",
       "    </tr>\n",
       "    <tr>\n",
       "      <th>GREEN_2016</th>\n",
       "      <td>148</td>\n",
       "      <td>152</td>\n",
       "      <td>54</td>\n",
       "    </tr>\n",
       "    <tr>\n",
       "      <th>LIBERTARIAN_2016</th>\n",
       "      <td>137</td>\n",
       "      <td>211</td>\n",
       "      <td>22</td>\n",
       "    </tr>\n",
       "    <tr>\n",
       "      <th>REPUBLICAN_2016</th>\n",
       "      <td>1726</td>\n",
       "      <td>1802</td>\n",
       "      <td>106</td>\n",
       "    </tr>\n",
       "    <tr>\n",
       "      <th>total_votes_2016</th>\n",
       "      <td>8558</td>\n",
       "      <td>13618</td>\n",
       "      <td>9190</td>\n",
       "    </tr>\n",
       "    <tr>\n",
       "      <th>total_turnout_pct_change</th>\n",
       "      <td>15.4303</td>\n",
       "      <td>9.73409</td>\n",
       "      <td>-8.74789</td>\n",
       "    </tr>\n",
       "    <tr>\n",
       "      <th>ward_str</th>\n",
       "      <td>1</td>\n",
       "      <td>2</td>\n",
       "      <td>3</td>\n",
       "    </tr>\n",
       "  </tbody>\n",
       "</table>\n",
       "</div>"
      ],
      "text/plain": [
       "                                0        1        2\n",
       "WARD                            1        2        3\n",
       "DEMOCRATIC_2012              5882    10324    10003\n",
       "GREEN_2012                     53       75        5\n",
       "LIBERTARIAN_2012               61       97        6\n",
       "REPUBLICAN_2012              1418     1914       57\n",
       "total_votes_2012             7414    12410    10071\n",
       "CONSTITUTION PARTY             18       11        7\n",
       "DEMOCRATIC_2016              6529    11442     9001\n",
       "GREEN_2016                    148      152       54\n",
       "LIBERTARIAN_2016              137      211       22\n",
       "REPUBLICAN_2016              1726     1802      106\n",
       "total_votes_2016             8558    13618     9190\n",
       "total_turnout_pct_change  15.4303  9.73409 -8.74789\n",
       "ward_str                        1        2        3"
      ]
     },
     "execution_count": 16,
     "metadata": {},
     "output_type": "execute_result"
    }
   ],
   "source": [
    "votes_2012_vs_2016.head(3).T"
   ]
  },
  {
   "cell_type": "markdown",
   "metadata": {},
   "source": [
    "## Load Census Data"
   ]
  },
  {
   "cell_type": "code",
   "execution_count": 17,
   "metadata": {
    "collapsed": true
   },
   "outputs": [],
   "source": [
    "geo_data = pd.read_csv(\"../data/census/DEC_10_SF1_G001_with_ann.csv\", skiprows=1,\n",
    "                        dtype={\"GEOGRAPHIC AREA CODES - Voting District\": str})"
   ]
  },
  {
   "cell_type": "code",
   "execution_count": 18,
   "metadata": {
    "collapsed": true
   },
   "outputs": [],
   "source": [
    "geo_slice = geo_data[[\"Id\", \"Id2\", \"Geography\", \"GEOGRAPHIC AREA CODES - Voting District\", \n",
    "         \"GEOGRAPHIC AREA CODES - Voting District Indicator\"]]"
   ]
  },
  {
   "cell_type": "code",
   "execution_count": 19,
   "metadata": {
    "collapsed": true
   },
   "outputs": [],
   "source": [
    "race_data = pd.read_csv(\"../data/census/DEC_10_SF1_P3_with_ann.csv\", skiprows=1)"
   ]
  },
  {
   "cell_type": "code",
   "execution_count": 20,
   "metadata": {
    "collapsed": true
   },
   "outputs": [],
   "source": [
    "census = pd.merge(\n",
    "    race_data,\n",
    "    geo_slice,\n",
    "    on=\"Id\"\n",
    ")"
   ]
  },
  {
   "cell_type": "code",
   "execution_count": 21,
   "metadata": {
    "collapsed": false
   },
   "outputs": [],
   "source": [
    "def split_ward_precinct(district_code):\n",
    "    stripped_code = district_code.strip()\n",
    "    if len(stripped_code) == 4:\n",
    "        return stripped_code[0:2], stripped_code[2:4]\n",
    "    elif len(stripped_code) == 3:\n",
    "        return stripped_code[0], stripped_code[1:3]\n",
    "    else:\n",
    "        pass"
   ]
  },
  {
   "cell_type": "code",
   "execution_count": 22,
   "metadata": {
    "collapsed": true
   },
   "outputs": [],
   "source": [
    "census[\"ward\"], census[\"district\"] = zip(*census[\"GEOGRAPHIC AREA CODES - Voting District\"].apply(split_ward_precinct))"
   ]
  },
  {
   "cell_type": "markdown",
   "metadata": {},
   "source": [
    "## Analyze Race by Ward"
   ]
  },
  {
   "cell_type": "code",
   "execution_count": 23,
   "metadata": {
    "collapsed": true
   },
   "outputs": [],
   "source": [
    "race_by_ward = census.groupby(\"ward\").sum()[[\"Total:\",\"White alone\",\"Black or African American alone\",\n",
    "                              \"American Indian and Alaska Native alone\",\"Asian alone\",\n",
    "                              \"Native Hawaiian and Other Pacific Islander alone\",\n",
    "                              \"Some Other Race alone\",\"Two or More Races\"]]"
   ]
  },
  {
   "cell_type": "code",
   "execution_count": 24,
   "metadata": {
    "collapsed": true
   },
   "outputs": [],
   "source": [
    "race_by_ward[\"pct_black\"] = race_by_ward[\"Black or African American alone\"] / race_by_ward[\"Total:\"] * 100"
   ]
  },
  {
   "cell_type": "code",
   "execution_count": 35,
   "metadata": {
    "collapsed": false
   },
   "outputs": [
    {
     "data": {
      "text/html": [
       "<div>\n",
       "<table border=\"1\" class=\"dataframe\">\n",
       "  <thead>\n",
       "    <tr style=\"text-align: right;\">\n",
       "      <th></th>\n",
       "      <th>Total:</th>\n",
       "      <th>White alone</th>\n",
       "      <th>Black or African American alone</th>\n",
       "      <th>American Indian and Alaska Native alone</th>\n",
       "      <th>Asian alone</th>\n",
       "      <th>Native Hawaiian and Other Pacific Islander alone</th>\n",
       "      <th>Some Other Race alone</th>\n",
       "      <th>Two or More Races</th>\n",
       "      <th>pct_black</th>\n",
       "      <th>pct_white</th>\n",
       "    </tr>\n",
       "    <tr>\n",
       "      <th>ward</th>\n",
       "      <th></th>\n",
       "      <th></th>\n",
       "      <th></th>\n",
       "      <th></th>\n",
       "      <th></th>\n",
       "      <th></th>\n",
       "      <th></th>\n",
       "      <th></th>\n",
       "      <th></th>\n",
       "      <th></th>\n",
       "    </tr>\n",
       "  </thead>\n",
       "  <tbody>\n",
       "    <tr>\n",
       "      <th>1</th>\n",
       "      <td>18879</td>\n",
       "      <td>11376</td>\n",
       "      <td>1493</td>\n",
       "      <td>80</td>\n",
       "      <td>3688</td>\n",
       "      <td>1</td>\n",
       "      <td>1717</td>\n",
       "      <td>524</td>\n",
       "      <td>7.908258</td>\n",
       "      <td>60.257429</td>\n",
       "    </tr>\n",
       "    <tr>\n",
       "      <th>10</th>\n",
       "      <td>25899</td>\n",
       "      <td>2388</td>\n",
       "      <td>22443</td>\n",
       "      <td>88</td>\n",
       "      <td>318</td>\n",
       "      <td>4</td>\n",
       "      <td>153</td>\n",
       "      <td>505</td>\n",
       "      <td>86.655855</td>\n",
       "      <td>9.220433</td>\n",
       "    </tr>\n",
       "    <tr>\n",
       "      <th>11</th>\n",
       "      <td>23659</td>\n",
       "      <td>6003</td>\n",
       "      <td>13981</td>\n",
       "      <td>84</td>\n",
       "      <td>2755</td>\n",
       "      <td>8</td>\n",
       "      <td>339</td>\n",
       "      <td>489</td>\n",
       "      <td>59.093791</td>\n",
       "      <td>25.373008</td>\n",
       "    </tr>\n",
       "  </tbody>\n",
       "</table>\n",
       "</div>"
      ],
      "text/plain": [
       "      Total:  White alone  Black or African American alone  \\\n",
       "ward                                                         \n",
       "1      18879        11376                             1493   \n",
       "10     25899         2388                            22443   \n",
       "11     23659         6003                            13981   \n",
       "\n",
       "      American Indian and Alaska Native alone  Asian alone  \\\n",
       "ward                                                         \n",
       "1                                          80         3688   \n",
       "10                                         88          318   \n",
       "11                                         84         2755   \n",
       "\n",
       "      Native Hawaiian and Other Pacific Islander alone  Some Other Race alone  \\\n",
       "ward                                                                            \n",
       "1                                                    1                   1717   \n",
       "10                                                   4                    153   \n",
       "11                                                   8                    339   \n",
       "\n",
       "      Two or More Races  pct_black  pct_white  \n",
       "ward                                           \n",
       "1                   524   7.908258  60.257429  \n",
       "10                  505  86.655855   9.220433  \n",
       "11                  489  59.093791  25.373008  "
      ]
     },
     "execution_count": 35,
     "metadata": {},
     "output_type": "execute_result"
    }
   ],
   "source": [
    "race_by_ward.head(3)"
   ]
  },
  {
   "cell_type": "code",
   "execution_count": 36,
   "metadata": {
    "collapsed": true
   },
   "outputs": [],
   "source": [
    "voting_with_race = votes_2012_vs_2016.set_index(\"ward_str\").join(race_by_ward)"
   ]
  },
  {
   "cell_type": "code",
   "execution_count": 37,
   "metadata": {
    "collapsed": false
   },
   "outputs": [
    {
     "data": {
      "image/png": "[encoded data removed]",
      "text/plain": [
       "<matplotlib.figure.Figure at 0x10b12d250>"
      ]
     },
     "metadata": {},
     "output_type": "display_data"
    }
   ],
   "source": [
    "ax = voting_with_race.plot(kind=\"scatter\", x=\"pct_white\", y=\"total_turnout_pct_change\", \n",
    "                           figsize=[12,8], s=60, fontsize=16, c=\"teal\", edgecolors=\"black\", alpha=0.75)\n",
    "ax.set_title(\"Percentage of Blacks in a Ward versus Turnout\", fontsize=20)\n",
    "ax.set_xlim([0,100])\n",
    "ax.set_ylim([-25,25])\n",
    "ax.set_ylabel(\"Percent Change in Turnout\", fontsize=16)\n",
    "ax.set_xlabel(\"Percentage of Blacks in Ward\", fontsize=16)\n",
    "pass"
   ]
  },
  {
   "cell_type": "code",
   "execution_count": 38,
   "metadata": {
    "collapsed": false
   },
   "outputs": [
    {
     "data": {
      "text/html": [
       "<div>\n",
       "<table border=\"1\" class=\"dataframe\">\n",
       "  <thead>\n",
       "    <tr style=\"text-align: right;\">\n",
       "      <th></th>\n",
       "      <th>pct_white</th>\n",
       "      <th>total_turnout_pct_change</th>\n",
       "    </tr>\n",
       "  </thead>\n",
       "  <tbody>\n",
       "    <tr>\n",
       "      <th>pct_white</th>\n",
       "      <td>1.000000</td>\n",
       "      <td>0.795506</td>\n",
       "    </tr>\n",
       "    <tr>\n",
       "      <th>total_turnout_pct_change</th>\n",
       "      <td>0.795506</td>\n",
       "      <td>1.000000</td>\n",
       "    </tr>\n",
       "  </tbody>\n",
       "</table>\n",
       "</div>"
      ],
      "text/plain": [
       "                          pct_white  total_turnout_pct_change\n",
       "pct_white                  1.000000                  0.795506\n",
       "total_turnout_pct_change   0.795506                  1.000000"
      ]
     },
     "execution_count": 38,
     "metadata": {},
     "output_type": "execute_result"
    }
   ],
   "source": [
    "voting_with_race[[\"pct_white\", \"total_turnout_pct_change\"]].corr()"
   ]
  },
  {
   "cell_type": "markdown",
   "metadata": {},
   "source": [
    "## Map Turnout by Ward"
   ]
  },
  {
   "cell_type": "code",
   "execution_count": 29,
   "metadata": {
    "collapsed": true
   },
   "outputs": [],
   "source": [
    "ward_topo = \"../data/maps/Political_Wards.json\""
   ]
  },
  {
   "cell_type": "code",
   "execution_count": 30,
   "metadata": {
    "collapsed": true
   },
   "outputs": [],
   "source": [
    "ward_map_data = [{'name': 'wards',\n",
    "                 'url': ward_topo,\n",
    "                 'feature': 'Political_Wards'}]"
   ]
  },
  {
   "cell_type": "code",
   "execution_count": 31,
   "metadata": {
    "collapsed": true
   },
   "outputs": [],
   "source": [
    "vis = vincent.Map(geo_data=ward_map_data, projection=\"albersUsa\", scale=128000, translate=[-35750,7000],\n",
    "                  data=votes_2012_vs_2016,\n",
    "                  data_bind='total_turnout_pct_change', data_key='ward_str',\n",
    "                  map_key={'wards': 'properties.WARD_NUM'}\n",
    "                 )\n",
    "\n",
    "vis.marks[0].properties.enter.stroke_opacity = ValueRef(value=0.5)\n",
    "vis.rebind(column='total_turnout_pct_change', brew='PRGn')\n",
    "vis.scales['color'].domain = [-25, -12.5, 0, 12.5, 25]"
   ]
  },
  {
   "cell_type": "code",
   "execution_count": 32,
   "metadata": {
    "collapsed": false
   },
   "outputs": [
    {
     "data": {
      "text/html": [
       "<div id=\"vis3eeff9f0151e4611a410b90a0bf1c891\"></div>\n",
       "<script>\n",
       "   ( function() {\n",
       "     var _do_plot = function() {\n",
       "       if (typeof vg === 'undefined') {\n",
       "         window.addEventListener('vincent_libs_loaded', _do_plot)\n",
       "         return;\n",
       "       }\n",
       "       vg.parse.spec({\"axes\": [], \"data\": [{\"name\": \"table\", \"values\": [{\"x\": \"1\", \"y\": 15.43026706231454}, {\"x\": \"2\", \"y\": 9.734085414987913}, {\"x\": \"3\", \"y\": -8.74788998113395}, {\"x\": \"4\", \"y\": -10.246570085388083}, {\"x\": \"5\", \"y\": 12.020847343644922}, {\"x\": \"6\", \"y\": -7.790119847997662}, {\"x\": \"7\", \"y\": 0.09293680297397769}, {\"x\": \"8\", \"y\": 6.294504538783498}, {\"x\": \"9\", \"y\": -5.048808649102551}, {\"x\": \"10\", \"y\": -10.366157127621756}, {\"x\": \"11\", \"y\": -13.967809657102869}, {\"x\": \"12\", \"y\": -9.844653179190752}, {\"x\": \"13\", \"y\": -10.640163694826073}, {\"x\": \"14\", \"y\": -2.8963795255930087}, {\"x\": \"15\", \"y\": 4.003773189393145}, {\"x\": \"16\", \"y\": -15.176374077112387}, {\"x\": \"17\", \"y\": -8.729765444334324}, {\"x\": \"18\", \"y\": 20.99942229924899}, {\"x\": \"19\", \"y\": 0.18932874354561102}, {\"x\": \"20\", \"y\": -0.6112469437652812}, {\"x\": \"21\", \"y\": 6.573921244989389}, {\"x\": \"22\", \"y\": -7.537100665253307}, {\"x\": \"23\", \"y\": -4.7215366455628285}, {\"x\": \"24\", \"y\": -3.716911260458099}, {\"x\": \"25\", \"y\": 6.826401446654612}, {\"x\": \"26\", \"y\": 9.467671366067087}, {\"x\": \"27\", \"y\": 10.783692437684833}, {\"x\": \"28\", \"y\": -14.070512820512821}, {\"x\": \"29\", \"y\": -13.390773649255072}, {\"x\": \"30\", \"y\": 7.207401032702237}, {\"x\": \"31\", \"y\": 22.018042098229202}, {\"x\": \"32\", \"y\": -9.803921568627452}, {\"x\": \"33\", \"y\": 0.717200445158897}, {\"x\": \"34\", \"y\": -4.762405935904857}, {\"x\": \"35\", \"y\": 0.5976900088845812}, {\"x\": \"36\", \"y\": 1.2214174122993893}, {\"x\": \"37\", \"y\": -10.959103478387426}, {\"x\": \"38\", \"y\": -3.1385751520417027}, {\"x\": \"39\", \"y\": 10.590879897238278}, {\"x\": \"40\", \"y\": -4.265984654731458}, {\"x\": \"41\", \"y\": 3.1241964515299565}, {\"x\": \"42\", \"y\": -0.41440279952113457}, {\"x\": \"43\", \"y\": -7.594524119947849}, {\"x\": \"44\", \"y\": -10.456867196367764}, {\"x\": \"45\", \"y\": 5.475880052151238}, {\"x\": \"46\", \"y\": -2.3683731098560754}, {\"x\": \"47\", \"y\": 1.8312298935906954}, {\"x\": \"48\", \"y\": -0.3117505995203837}, {\"x\": \"49\", \"y\": -11.770969855832242}, {\"x\": \"50\", \"y\": -10.726062340571143}, {\"x\": \"51\", \"y\": -11.289316582019069}, {\"x\": \"52\", \"y\": -6.8088033012379645}, {\"x\": \"53\", \"y\": 1.6326530612244898}, {\"x\": \"54\", \"y\": -0.5741775294847921}, {\"x\": \"55\", \"y\": 0.8651350571950399}, {\"x\": \"56\", \"y\": 4.252700670039655}, {\"x\": \"57\", \"y\": 3.851146689744699}, {\"x\": \"58\", \"y\": 4.5484744723258554}, {\"x\": \"59\", \"y\": -7.4895473550263585}, {\"x\": \"60\", \"y\": -8.75282957852754}, {\"x\": \"61\", \"y\": -5.3465962076468765}, {\"x\": \"62\", \"y\": 0.73}, {\"x\": \"63\", \"y\": 3.559550561797753}, {\"x\": \"64\", \"y\": -1.083658430862592}, {\"x\": \"65\", \"y\": 2.3495333118764083}, {\"x\": \"66\", \"y\": 4.246719160104987}]}, {\"format\": {\"feature\": \"Political_Wards\", \"type\": \"topojson\"}, \"name\": \"wards\", \"transform\": [{\"as\": \"value\", \"default\": \"noval\", \"key\": \"data.properties.WARD_NUM\", \"type\": \"zip\", \"with\": \"table\", \"withKey\": \"data.x\"}, {\"test\": \"d.path!='noval' && d.value!='noval'\", \"type\": \"filter\"}, {\"projection\": \"albersUsa\", \"scale\": 128000, \"translate\": [-35750, 7000], \"type\": \"geopath\", \"value\": \"data\"}], \"url\": \"../data/maps/Political_Wards.json\"}], \"height\": 500, \"legends\": [], \"marks\": [{\"from\": {\"data\": \"wards\"}, \"properties\": {\"enter\": {\"path\": {\"field\": \"path\"}, \"stroke\": {\"value\": \"#000000\"}, \"strokeOpacity\": {\"value\": 0.5}}, \"update\": {\"fill\": {\"field\": \"value.data.y\", \"scale\": \"color\"}}}, \"type\": \"path\"}], \"padding\": \"auto\", \"scales\": [{\"domain\": [-25, -12.5, 0, 12.5, 25], \"name\": \"color\", \"range\": [\"#40004b\", \"#762a83\", \"#9970ab\", \"#c2a5cf\", \"#e7d4e8\", \"#f7f7f7\", \"#d9f0d3\", \"#a6dba0\", \"#5aae61\", \"#1b7837\", \"#00441b\"], \"type\": \"quantize\"}], \"width\": 960}, function(chart) {\n",
       "         chart({el: \"#vis3eeff9f0151e4611a410b90a0bf1c891\"}).update();\n",
       "       });\n",
       "     };\n",
       "     _do_plot();\n",
       "   })();\n",
       "</script>\n",
       "<style>.vega canvas {width: 100%;}</style>\n",
       "        "
      ],
      "text/plain": [
       "<vincent.charts.Map at 0x10d220c90>"
      ]
     },
     "execution_count": 32,
     "metadata": {},
     "output_type": "execute_result"
    }
   ],
   "source": [
    "vis"
   ]
  },
  {
   "cell_type": "markdown",
   "metadata": {},
   "source": [
    "---\n",
    "\n",
    "---\n",
    "\n",
    "---"
   ]
  }
 ],
 "metadata": {
  "kernelspec": {
   "display_name": "Python 2",
   "language": "python",
   "name": "python2"
  },
  "language_info": {
   "codemirror_mode": {
    "name": "ipython",
    "version": 2
   },
   "file_extension": ".py",
   "mimetype": "text/x-python",
   "name": "python",
   "nbconvert_exporter": "python",
   "pygments_lexer": "ipython2",
   "version": "2.7.9"
  }
 },
 "nbformat": 4,
 "nbformat_minor": 0
}
